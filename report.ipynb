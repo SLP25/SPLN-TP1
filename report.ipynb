{
 "cells": [
  {
   "cell_type": "markdown",
   "metadata": {},
   "source": [
    "### Instalação"
   ]
  },
  {
   "cell_type": "markdown",
   "metadata": {},
   "source": [
    "Para instalar o programa apenas é necessário fazer:"
   ]
  },
  {
   "cell_type": "code",
   "execution_count": null,
   "metadata": {},
   "outputs": [],
   "source": [
    "git clone https://github.com/lumafepe/SPLN-TP\n",
    "cd sentimentAnalizis\n",
    "pip3 install ."
   ]
  },
  {
   "cell_type": "markdown",
   "metadata": {},
   "source": [
    "# Utilização"
   ]
  },
  {
   "cell_type": "markdown",
   "metadata": {},
   "source": [
    "O programa disponibiliza de 3 comandos\n",
    "1. sentAnalize-calibrate <ficheiro>\n",
    "Define que a polaridade do ficheiro fornecido é equivalente a 0 calibrando assim o programa.\n",
    "\n",
    "2. sentAnalize-init\n",
    "Reconstroi os datasets do programa, para caso tenham sido feitas alterações a estes.\n",
    "\n",
    "3. sentAnalize <flags>\n",
    "Funcionalidade principal do programa para a analisar a polaridade de um texto divido em cálculo de média e obter polaridades individuais.\n",
    "\n",
    "Flags globais\n",
    "|   Flag | Parâmetros  | Descrição | Se não includo |\n",
    "| -------: | :-------------- | :----------------------------- | :----------------------------- |\n",
    "|  `-f`  | `Path` caminho | Usar o conteudo do ficheiro | Ler do standard input |\n",
    "|  `-n`  | - | Retorna os valores calibrado | - |\n",
    "|  `-c`  | - | Imprimir número de palavras consideradas para o cálculo | - |\n",
    "\n",
    "Flag para cálculo de polaridade média\n",
    "|   Flag | Parâmetros  | Descrição | Se não includo |\n",
    "| -------: | :-------------- | :----------------------------- | :----------------------------- |\n",
    "|  `-a`  | - | Cálcular polaridade média | - |\n",
    "|  `-d`  | - | Cálcular polaridade média dos valores positivos e negativos individualmente | - |\n",
    "\n",
    "Flag para obter polaridades \n",
    "|   Flag | Parâmetros  | Descrição | Se não includo |\n",
    "| -------: | :-------------- | :----------------------------- | :----------------------------- |\n",
    "|  `-i`  | `String` \\<+\\|-\\> | Mostrar apenas as palavras com polaridade total positiva ou negativa respetivamente | - |\n",
    "|  `-s`  | `String` \\<inc\\|dec\\|alp\\> | Ordenar palavras por polaridade total incremental, decremental ou alfabeticamente respetivamente| Ordenar palavras por ordem decrescente |\n",
    "|  `-l`  | `Int` \\<n\\> | Mostra apenas as \\<n\\> primeiras palavras | - |"
   ]
  },
  {
   "cell_type": "markdown",
   "metadata": {},
   "source": [
    "# Funcionalidades\n",
    "- Usar emojis\n",
    "- Limitar palavras\n",
    "- Calcular polaridade media\n",
    "- Calcular polaridade media individual para +/-\n",
    "- Ordenação\n",
    "- Calibração\n",
    "- Mostrar numero de palavras consideradas\n",
    "- Total de polaridade de um palavra\n",
    "\n",
    "#TODO\n",
    "- Mostrar para um modificador qual o seu impacto em cada palavra\n"
   ]
  },
  {
   "cell_type": "markdown",
   "metadata": {},
   "source": [
    "# Como Funciona"
   ]
  },
  {
   "cell_type": "markdown",
   "metadata": {},
   "source": [
    "# Exemplos"
   ]
  },
  {
   "cell_type": "markdown",
   "metadata": {},
   "source": [
    "Alguns exemplos podem ser observados no ficheiro [exemplos.md](exemplos.md)"
   ]
  },
  {
   "cell_type": "markdown",
   "metadata": {},
   "source": [
    "# Comparação\n",
    "\n",
    "![Vader vs leIA vs sentAnalize](https://github.com/lumafepe/SPLN-TP/diferenças.png \"Vader vs leIA vs sentAnalize\")"
   ]
  },
  {
   "cell_type": "markdown",
   "metadata": {},
   "source": [
    "# Recursos"
   ]
  },
  {
   "cell_type": "markdown",
   "metadata": {},
   "source": [
    "O programa usa informação de 3 datasets distintos:\n",
    " - [leIA](https://github.com/rafjaa/LeIA)\n",
    " - [Linguakit](https://github.com/citiususc/Linguakit)\n",
    " - [SentiLex](https://github.com/esrel/SentiLex)"
   ]
  }
 ],
 "metadata": {
  "kernelspec": {
   "display_name": "Python 3.11.8 64-bit",
   "language": "python",
   "name": "python3"
  },
  "language_info": {
   "name": "python",
   "version": "3.11.8"
  },
  "orig_nbformat": 4,
  "vscode": {
   "interpreter": {
    "hash": "e7370f93d1d0cde622a1f8e1c04877d8463912d04d973331ad4851f04de6915a"
   }
  }
 },
 "nbformat": 4,
 "nbformat_minor": 2
}
